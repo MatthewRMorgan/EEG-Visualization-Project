COGS 189 FINAL PROJECT

By: Matthew Morgan

Team Name: N-art
Introduction and Motivation

This main goal of this project is to use EEG-Art visualization techniques to visualize EEG data in a pleasing manner. This is useful for displaying EEG data in a user-friendly environment such as indicating attention spans in a class setting or displaying emotional states of mind for users who can not signal emotional states. It is important to convey these states of mind for better studies on how to foster attention, and also having the ability to convey emotions without physical ques.
Related Work

EEGNET: https://journals.plos.org/plosone/article?id=10.1371/journal.pone.0138297
Methods

Type Markdown and LaTeX: 𝛼2

Results

Type Markdown and LaTeX: 𝛼2

Discussion

Type Markdown and LaTeX: 𝛼2
